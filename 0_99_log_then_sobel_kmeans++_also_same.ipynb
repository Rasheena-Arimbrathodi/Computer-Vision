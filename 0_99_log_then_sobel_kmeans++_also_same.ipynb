{
  "nbformat": 4,
  "nbformat_minor": 0,
  "metadata": {
    "colab": {
      "provenance": [],
      "include_colab_link": true
    },
    "kernelspec": {
      "name": "python3",
      "display_name": "Python 3"
    },
    "language_info": {
      "name": "python"
    }
  },
  "cells": [
    {
      "cell_type": "markdown",
      "metadata": {
        "id": "view-in-github",
        "colab_type": "text"
      },
      "source": [
        "<a href=\"https://colab.research.google.com/github/Rasheena-Arimbrathodi/Computer-Vision/blob/main/0_99_log_then_sobel_kmeans%2B%2B_also_same.ipynb\" target=\"_parent\"><img src=\"https://colab.research.google.com/assets/colab-badge.svg\" alt=\"Open In Colab\"/></a>"
      ]
    },
    {
      "cell_type": "code",
      "source": [
        "import numpy as np\n",
        "from scipy.io import loadmat\n",
        "from sklearn.cluster import KMeans\n",
        "from skimage.filters import sobel\n",
        "from skimage.filters import gaussian\n",
        "\n",
        "# Load MRI data\n",
        "data = loadmat('Brain.mat')\n",
        "T1 = data['T1']\n",
        "label = data['label']\n"
      ],
      "metadata": {
        "id": "asVI47-0JtHt"
      },
      "execution_count": null,
      "outputs": []
    },
    {
      "cell_type": "code",
      "source": [],
      "metadata": {
        "id": "skg_i3lEQttZ"
      },
      "execution_count": null,
      "outputs": []
    },
    {
      "cell_type": "code",
      "source": [
        "import numpy as np\n",
        "from scipy.io import loadmat\n",
        "from sklearn.cluster import KMeans\n",
        "from skimage.filters import sobel\n",
        "from skimage.filters import gaussian\n",
        "from sklearn.metrics import confusion_matrix\n",
        "# Load MRI data\n",
        "data = loadmat('Brain.mat')\n",
        "T1 = data['T1']\n",
        "label = data['label']\n",
        "\n",
        "# Smoothing using Laplacian of Gaussian approximation (Difference of Gaussians)\n",
        "def laplacian_of_gaussian(image, sigma):\n",
        "    gauss1 = gaussian(image, sigma)\n",
        "    gauss2 = gaussian(image, sigma * np.sqrt(2))\n",
        "    return gauss1 - gauss2\n",
        "\n",
        "smoothed_normalized_T1 = np.zeros_like(T1)\n",
        "for i in range(T1.shape[2]):\n",
        "    smoothed_normalized_T1[:, :, i] = laplacian_of_gaussian(T1[:, :, i], sigma=0.125485)  # Adjust sigma value as needed\n",
        "\n",
        "# Smoothing using Gaussian filter with sobel\n",
        "smoothed_sobel_T1 = np.zeros_like(smoothed_normalized_T1)\n",
        "for i in range(T1.shape[2]):\n",
        "    smoothed_sobel_T1[:, :, i] = sobel(smoothed_normalized_T1[:, :, i])\n",
        "\n",
        "# Flatten and cluster\n",
        "kmeans = KMeans(n_clusters=6, random_state=42)\n",
        "clustered_slices = np.zeros_like(T1)\n",
        "for i in range(T1.shape[2]):\n",
        "    flattened_slice = smoothed_sobel_T1[:, :, i].flatten().reshape((-1, 1))\n",
        "    clustered_slices[:, :, i] = kmeans.fit_predict(flattened_slice).reshape(T1.shape[:2])\n",
        "\n",
        "# Visualize clustered slices or further analysis\n",
        "\n",
        "# Perform evaluation for Task 2\n",
        "# You can compare clustered_slices with the ground truth label to assess accuracy using appropriate metrics\n",
        "def evaluate_segmentation(segmented_slices, ground_truth):\n",
        "    num_slices = segmented_slices.shape[2]\n",
        "    all_tp = 0\n",
        "    all_tn = 0\n",
        "    all_fp = 0\n",
        "    all_fn = 0\n",
        "\n",
        "    for i in range(num_slices):\n",
        "        segmented_slice = segmented_slices[:, :, i]\n",
        "        gt_slice = ground_truth[:, :, i]\n",
        "\n",
        "        # Compute confusion matrix\n",
        "        cm = confusion_matrix(gt_slice.ravel(), segmented_slice.ravel())\n",
        "\n",
        "        # Accumulate counts\n",
        "        tn, fp, fn, tp = np.ravel(cm)[:4]  # Ensure only the first 4 elements are considered\n",
        "        all_tp += tp\n",
        "        all_tn += tn\n",
        "        all_fp += fp\n",
        "        all_fn += fn\n",
        "\n",
        "    # Calculate macro-averaged metrics\n",
        "    total_samples = all_tp + all_tn + all_fp + all_fn\n",
        "    macro_accuracy = (all_tp + all_tn) / total_samples\n",
        "    macro_sensitivity = all_tp / (all_tp + all_fn)\n",
        "    macro_specificity = all_tn / (all_tn + all_fp)\n",
        "    macro_dice = (2 * all_tp) / (2 * all_tp + all_fp + all_fn)\n",
        "\n",
        "    return macro_accuracy, macro_sensitivity, macro_specificity, macro_dice\n",
        "\n",
        "# Evaluate segmentation\n",
        "macro_accuracy, macro_sensitivity, macro_specificity, macro_dice = evaluate_segmentation(clustered_slices, label)\n",
        "\n",
        "print(\"Macro-Averaged Accuracy:\", macro_accuracy)\n",
        "print(\"Macro-Averaged Sensitivity:\", macro_sensitivity)\n",
        "print(\"Macro-Averaged Specificity:\", macro_specificity)\n",
        "print(\"Macro-Averaged Dice Coefficient:\", macro_dice)\n"
      ],
      "metadata": {
        "id": "umtYHzoAhcWF",
        "colab": {
          "base_uri": "https://localhost:8080/"
        },
        "outputId": "ae86b341-a944-4dc9-a0cc-2ba65fffd5da"
      },
      "execution_count": null,
      "outputs": [
        {
          "output_type": "stream",
          "name": "stderr",
          "text": [
            "/usr/local/lib/python3.10/dist-packages/sklearn/cluster/_kmeans.py:870: FutureWarning: The default value of `n_init` will change from 10 to 'auto' in 1.4. Set the value of `n_init` explicitly to suppress the warning\n",
            "  warnings.warn(\n",
            "/usr/local/lib/python3.10/dist-packages/sklearn/cluster/_kmeans.py:870: FutureWarning: The default value of `n_init` will change from 10 to 'auto' in 1.4. Set the value of `n_init` explicitly to suppress the warning\n",
            "  warnings.warn(\n",
            "/usr/local/lib/python3.10/dist-packages/sklearn/cluster/_kmeans.py:870: FutureWarning: The default value of `n_init` will change from 10 to 'auto' in 1.4. Set the value of `n_init` explicitly to suppress the warning\n",
            "  warnings.warn(\n",
            "/usr/local/lib/python3.10/dist-packages/sklearn/cluster/_kmeans.py:870: FutureWarning: The default value of `n_init` will change from 10 to 'auto' in 1.4. Set the value of `n_init` explicitly to suppress the warning\n",
            "  warnings.warn(\n",
            "/usr/local/lib/python3.10/dist-packages/sklearn/cluster/_kmeans.py:870: FutureWarning: The default value of `n_init` will change from 10 to 'auto' in 1.4. Set the value of `n_init` explicitly to suppress the warning\n",
            "  warnings.warn(\n",
            "/usr/local/lib/python3.10/dist-packages/sklearn/cluster/_kmeans.py:870: FutureWarning: The default value of `n_init` will change from 10 to 'auto' in 1.4. Set the value of `n_init` explicitly to suppress the warning\n",
            "  warnings.warn(\n",
            "/usr/local/lib/python3.10/dist-packages/sklearn/cluster/_kmeans.py:870: FutureWarning: The default value of `n_init` will change from 10 to 'auto' in 1.4. Set the value of `n_init` explicitly to suppress the warning\n",
            "  warnings.warn(\n",
            "/usr/local/lib/python3.10/dist-packages/sklearn/cluster/_kmeans.py:870: FutureWarning: The default value of `n_init` will change from 10 to 'auto' in 1.4. Set the value of `n_init` explicitly to suppress the warning\n",
            "  warnings.warn(\n",
            "/usr/local/lib/python3.10/dist-packages/sklearn/cluster/_kmeans.py:870: FutureWarning: The default value of `n_init` will change from 10 to 'auto' in 1.4. Set the value of `n_init` explicitly to suppress the warning\n",
            "  warnings.warn(\n",
            "/usr/local/lib/python3.10/dist-packages/sklearn/cluster/_kmeans.py:870: FutureWarning: The default value of `n_init` will change from 10 to 'auto' in 1.4. Set the value of `n_init` explicitly to suppress the warning\n",
            "  warnings.warn(\n"
          ]
        },
        {
          "output_type": "stream",
          "name": "stdout",
          "text": [
            "Macro-Averaged Accuracy: 0.9897487868563185\n",
            "Macro-Averaged Sensitivity: 0.8905433850471661\n",
            "Macro-Averaged Specificity: 0.9928788944698896\n",
            "Macro-Averaged Dice Coefficient: 0.8416282925032235\n"
          ]
        }
      ]
    },
    {
      "cell_type": "code",
      "source": [
        "import numpy as np\n",
        "from scipy.io import loadmat\n",
        "from skimage.filters import sobel\n",
        "from skimage.filters import gaussian\n",
        "from sklearn.cluster import KMeans\n",
        "from sklearn.metrics import confusion_matrix\n",
        "\n",
        "# Load MRI data\n",
        "data = loadmat('Brain.mat')\n",
        "T1 = data['T1']\n",
        "label = data['label']\n",
        "\n",
        "# Smoothing using Laplacian of Gaussian approximation (Difference of Gaussians)\n",
        "def laplacian_of_gaussian(image, sigma):\n",
        "    gauss1 = gaussian(image, sigma)\n",
        "    gauss2 = gaussian(image, sigma * np.sqrt(2))\n",
        "    return gauss1 - gauss2\n",
        "\n",
        "smoothed_normalized_T1 = np.zeros_like(T1)\n",
        "for i in range(T1.shape[2]):\n",
        "    smoothed_normalized_T1[:, :, i] = laplacian_of_gaussian(T1[:, :, i], sigma=1.25)  # Adjust sigma value as needed\n",
        "\n",
        "# Smoothing using Gaussian filter with sobel\n",
        "smoothed_sobel_T1 = np.zeros_like(smoothed_normalized_T1)\n",
        "for i in range(T1.shape[2]):\n",
        "    smoothed_sobel_T1[:, :, i] = sobel(smoothed_normalized_T1[:, :, i])\n",
        "\n",
        "# Flatten and cluster using KMeans++\n",
        "kmeans = KMeans(n_clusters=6, init='k-means++', random_state=42)  # KMeans++ with 6 clusters\n",
        "clustered_slices = np.zeros_like(T1)\n",
        "for i in range(T1.shape[2]):\n",
        "    flattened_slice = smoothed_sobel_T1[:, :, i].flatten().reshape((-1, 1))\n",
        "    clustered_slices[:, :, i] = kmeans.fit_predict(flattened_slice).reshape(T1.shape[:2])\n",
        "\n",
        "# Visualize clustered slices or further analysis\n",
        "\n",
        "# Perform evaluation for Task 2\n",
        "# You can compare clustered_slices with the ground truth label to assess accuracy using appropriate metrics\n",
        "def evaluate_segmentation(segmented_slices, ground_truth):\n",
        "    num_slices = segmented_slices.shape[2]\n",
        "    all_tp = 0\n",
        "    all_tn = 0\n",
        "    all_fp = 0\n",
        "    all_fn = 0\n",
        "\n",
        "    for i in range(num_slices):\n",
        "        segmented_slice = segmented_slices[:, :, i]\n",
        "        gt_slice = ground_truth[:, :, i]\n",
        "\n",
        "        # Compute confusion matrix\n",
        "        cm = confusion_matrix(gt_slice.ravel(), segmented_slice.ravel())\n",
        "\n",
        "        # Accumulate counts\n",
        "        tn, fp, fn, tp = np.ravel(cm)[:4]  # Ensure only the first 4 elements are considered\n",
        "        all_tp += tp\n",
        "        all_tn += tn\n",
        "        all_fp += fp\n",
        "        all_fn += fn\n",
        "\n",
        "    # Calculate macro-averaged metrics\n",
        "    total_samples = all_tp + all_tn + all_fp + all_fn\n",
        "    macro_accuracy = (all_tp + all_tn) / total_samples\n",
        "    macro_sensitivity = all_tp / (all_tp + all_fn)\n",
        "    macro_specificity = all_tn / (all_tn + all_fp)\n",
        "    macro_dice = (2 * all_tp) / (2 * all_tp + all_fp + all_fn)\n",
        "\n",
        "    return macro_accuracy, macro_sensitivity, macro_specificity, macro_dice\n",
        "\n",
        "# Evaluate segmentation\n",
        "macro_accuracy, macro_sensitivity, macro_specificity, macro_dice = evaluate_segmentation(clustered_slices, label)\n",
        "\n",
        "print(\"Macro-Averaged Accuracy:\", macro_accuracy)\n",
        "print(\"Macro-Averaged Sensitivity:\", macro_sensitivity)\n",
        "print(\"Macro-Averaged Specificity:\", macro_specificity)\n",
        "print(\"Macro-Averaged Dice Coefficient:\", macro_dice)\n"
      ],
      "metadata": {
        "id": "6nWkUmzrQslv",
        "colab": {
          "base_uri": "https://localhost:8080/"
        },
        "outputId": "61526acb-5580-4582-c521-0ed77fd43cf0"
      },
      "execution_count": null,
      "outputs": [
        {
          "output_type": "stream",
          "name": "stderr",
          "text": [
            "/usr/local/lib/python3.10/dist-packages/sklearn/cluster/_kmeans.py:870: FutureWarning: The default value of `n_init` will change from 10 to 'auto' in 1.4. Set the value of `n_init` explicitly to suppress the warning\n",
            "  warnings.warn(\n",
            "/usr/local/lib/python3.10/dist-packages/sklearn/cluster/_kmeans.py:870: FutureWarning: The default value of `n_init` will change from 10 to 'auto' in 1.4. Set the value of `n_init` explicitly to suppress the warning\n",
            "  warnings.warn(\n",
            "/usr/local/lib/python3.10/dist-packages/sklearn/cluster/_kmeans.py:870: FutureWarning: The default value of `n_init` will change from 10 to 'auto' in 1.4. Set the value of `n_init` explicitly to suppress the warning\n",
            "  warnings.warn(\n",
            "/usr/local/lib/python3.10/dist-packages/sklearn/cluster/_kmeans.py:870: FutureWarning: The default value of `n_init` will change from 10 to 'auto' in 1.4. Set the value of `n_init` explicitly to suppress the warning\n",
            "  warnings.warn(\n",
            "/usr/local/lib/python3.10/dist-packages/sklearn/cluster/_kmeans.py:870: FutureWarning: The default value of `n_init` will change from 10 to 'auto' in 1.4. Set the value of `n_init` explicitly to suppress the warning\n",
            "  warnings.warn(\n",
            "/usr/local/lib/python3.10/dist-packages/sklearn/cluster/_kmeans.py:870: FutureWarning: The default value of `n_init` will change from 10 to 'auto' in 1.4. Set the value of `n_init` explicitly to suppress the warning\n",
            "  warnings.warn(\n",
            "/usr/local/lib/python3.10/dist-packages/sklearn/cluster/_kmeans.py:870: FutureWarning: The default value of `n_init` will change from 10 to 'auto' in 1.4. Set the value of `n_init` explicitly to suppress the warning\n",
            "  warnings.warn(\n",
            "/usr/local/lib/python3.10/dist-packages/sklearn/cluster/_kmeans.py:870: FutureWarning: The default value of `n_init` will change from 10 to 'auto' in 1.4. Set the value of `n_init` explicitly to suppress the warning\n",
            "  warnings.warn(\n",
            "/usr/local/lib/python3.10/dist-packages/sklearn/cluster/_kmeans.py:870: FutureWarning: The default value of `n_init` will change from 10 to 'auto' in 1.4. Set the value of `n_init` explicitly to suppress the warning\n",
            "  warnings.warn(\n",
            "/usr/local/lib/python3.10/dist-packages/sklearn/cluster/_kmeans.py:870: FutureWarning: The default value of `n_init` will change from 10 to 'auto' in 1.4. Set the value of `n_init` explicitly to suppress the warning\n",
            "  warnings.warn(\n"
          ]
        },
        {
          "output_type": "stream",
          "name": "stdout",
          "text": [
            "Macro-Averaged Accuracy: 0.8678421640604401\n",
            "Macro-Averaged Sensitivity: 0.9765405459654757\n",
            "Macro-Averaged Specificity: 0.815505792625225\n",
            "Macro-Averaged Dice Coefficient: 0.8276749354060118\n"
          ]
        }
      ]
    }
  ]
}